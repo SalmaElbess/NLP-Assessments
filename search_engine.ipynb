{
  "nbformat": 4,
  "nbformat_minor": 0,
  "metadata": {
    "colab": {
      "name": "NLP_Lab_task.ipynb",
      "provenance": []
    },
    "kernelspec": {
      "name": "python3",
      "display_name": "Python 3"
    },
    "language_info": {
      "name": "python"
    }
  },
  "cells": [
    {
      "cell_type": "markdown",
      "metadata": {
        "id": "JnYWa-7cCxU-"
      },
      "source": [
        "- Salma Elbess\n",
        "- 201601152\n",
        "- data_set: https://www.kaggle.com/eliasdabbas/recipes-search-engine-results-data?select=recipes_serp_data.csv"
      ]
    },
    {
      "cell_type": "markdown",
      "metadata": {
        "id": "5yB_mAvZA7PQ"
      },
      "source": [
        "##Data import"
      ]
    },
    {
      "cell_type": "code",
      "metadata": {
        "id": "6d8P741JFB75"
      },
      "source": [
        "from nltk.stem.porter import PorterStemmer\n",
        "from nltk.tokenize import word_tokenize\n",
        "from nltk.corpus import stopwords \n",
        "from nltk.stem import WordNetLemmatizer\n",
        "import pickle\n",
        "import numpy as np\n",
        "import math\n",
        "import pandas as pd"
      ],
      "execution_count": 141,
      "outputs": []
    },
    {
      "cell_type": "code",
      "metadata": {
        "colab": {
          "base_uri": "https://localhost:8080/"
        },
        "id": "HFaoCGw-FC8z",
        "outputId": "cd4251f9-11af-4edc-ec9b-ca800e4c240f"
      },
      "source": [
        "import nltk\n",
        "nltk.download('stopwords')\n",
        "nltk.download('wordnet')\n",
        "nltk.download('punkt')"
      ],
      "execution_count": 142,
      "outputs": [
        {
          "output_type": "stream",
          "text": [
            "[nltk_data] Downloading package stopwords to /root/nltk_data...\n",
            "[nltk_data]   Package stopwords is already up-to-date!\n",
            "[nltk_data] Downloading package wordnet to /root/nltk_data...\n",
            "[nltk_data]   Package wordnet is already up-to-date!\n",
            "[nltk_data] Downloading package punkt to /root/nltk_data...\n",
            "[nltk_data]   Package punkt is already up-to-date!\n"
          ],
          "name": "stdout"
        },
        {
          "output_type": "execute_result",
          "data": {
            "text/plain": [
              "True"
            ]
          },
          "metadata": {
            "tags": []
          },
          "execution_count": 142
        }
      ]
    },
    {
      "cell_type": "code",
      "metadata": {
        "id": "rj_1nMgllZ0c"
      },
      "source": [
        "df = pd.read_csv('recipes_serp_data.csv', encoding='latin-1') #check encodings types\n",
        "df.drop_duplicates(subset='snippet',inplace=True,ignore_index=True)"
      ],
      "execution_count": 143,
      "outputs": []
    },
    {
      "cell_type": "code",
      "metadata": {
        "colab": {
          "base_uri": "https://localhost:8080/",
          "height": 636
        },
        "id": "9_X2ebHypLZS",
        "outputId": "d4b4023c-e9d1-47c0-802a-a318c092bd91"
      },
      "source": [
        "df.head()"
      ],
      "execution_count": 144,
      "outputs": [
        {
          "output_type": "execute_result",
          "data": {
            "text/html": [
              "<div>\n",
              "<style scoped>\n",
              "    .dataframe tbody tr th:only-of-type {\n",
              "        vertical-align: middle;\n",
              "    }\n",
              "\n",
              "    .dataframe tbody tr th {\n",
              "        vertical-align: top;\n",
              "    }\n",
              "\n",
              "    .dataframe thead th {\n",
              "        text-align: right;\n",
              "    }\n",
              "</style>\n",
              "<table border=\"1\" class=\"dataframe\">\n",
              "  <thead>\n",
              "    <tr style=\"text-align: right;\">\n",
              "      <th></th>\n",
              "      <th>searchTerms</th>\n",
              "      <th>rank</th>\n",
              "      <th>title</th>\n",
              "      <th>snippet</th>\n",
              "      <th>displayLink</th>\n",
              "      <th>link</th>\n",
              "      <th>queryTime</th>\n",
              "      <th>totalResults</th>\n",
              "      <th>cacheId</th>\n",
              "      <th>count</th>\n",
              "      <th>cseName</th>\n",
              "      <th>cx</th>\n",
              "      <th>fileFormat</th>\n",
              "      <th>formattedSearchTime</th>\n",
              "      <th>formattedTotalResults</th>\n",
              "      <th>formattedUrl</th>\n",
              "      <th>htmlFormattedUrl</th>\n",
              "      <th>htmlSnippet</th>\n",
              "      <th>htmlTitle</th>\n",
              "      <th>inputEncoding</th>\n",
              "      <th>kind</th>\n",
              "      <th>mime</th>\n",
              "      <th>outputEncoding</th>\n",
              "      <th>pagemap</th>\n",
              "      <th>safe</th>\n",
              "      <th>searchTime</th>\n",
              "      <th>startIndex</th>\n",
              "    </tr>\n",
              "  </thead>\n",
              "  <tbody>\n",
              "    <tr>\n",
              "      <th>0</th>\n",
              "      <td>dish recipe</td>\n",
              "      <td>1</td>\n",
              "      <td>Recipes - Dish</td>\n",
              "      <td>Chicken is a versatile ingredient that can be ...</td>\n",
              "      <td>dish.co.nz</td>\n",
              "      <td>https://dish.co.nz/recipes/</td>\n",
              "      <td>2019-03-30 01:15:35.167457+00:00</td>\n",
              "      <td>1090000000</td>\n",
              "      <td>8UR9TW0uG8QJ</td>\n",
              "      <td>10</td>\n",
              "      <td>PySearch</td>\n",
              "      <td>012859022920491477448:pubdbfjmmec</td>\n",
              "      <td>NaN</td>\n",
              "      <td>0.18</td>\n",
              "      <td>1,090,000,000</td>\n",
              "      <td>https://dish.co.nz/recipes/</td>\n",
              "      <td>https://&lt;b&gt;dish&lt;/b&gt;.co.nz/&lt;b&gt;recipes&lt;/b&gt;/</td>\n",
              "      <td>Chicken is a versatile ingredient that can be ...</td>\n",
              "      <td>&lt;b&gt;Recipes&lt;/b&gt; - &lt;b&gt;Dish&lt;/b&gt;</td>\n",
              "      <td>utf8</td>\n",
              "      <td>customsearch#result</td>\n",
              "      <td>NaN</td>\n",
              "      <td>utf8</td>\n",
              "      <td>{'cse_thumbnail': [{'width': '310', 'height': ...</td>\n",
              "      <td>off</td>\n",
              "      <td>0.182105</td>\n",
              "      <td>1</td>\n",
              "    </tr>\n",
              "    <tr>\n",
              "      <th>1</th>\n",
              "      <td>dish recipe</td>\n",
              "      <td>2</td>\n",
              "      <td>Easy Main Dish Recipes | Taste of Home</td>\n",
              "      <td>No matter when I eat it, this tangy chicken di...</td>\n",
              "      <td>www.tasteofhome.com</td>\n",
              "      <td>https://www.tasteofhome.com/cooking-style/easy...</td>\n",
              "      <td>2019-03-30 01:15:35.167457+00:00</td>\n",
              "      <td>1090000000</td>\n",
              "      <td>-YQNzFg49T0J</td>\n",
              "      <td>10</td>\n",
              "      <td>PySearch</td>\n",
              "      <td>012859022920491477448:pubdbfjmmec</td>\n",
              "      <td>NaN</td>\n",
              "      <td>0.18</td>\n",
              "      <td>1,090,000,000</td>\n",
              "      <td>https://www.tasteofhome.com/...recipes/easy-ma...</td>\n",
              "      <td>https://www.tasteofhome.com/...&lt;b&gt;recipes&lt;/b&gt;/...</td>\n",
              "      <td>No matter when I eat it, this tangy chicken &lt;b...</td>\n",
              "      <td>Easy Main &lt;b&gt;Dish Recipes&lt;/b&gt; | Taste of Home</td>\n",
              "      <td>utf8</td>\n",
              "      <td>customsearch#result</td>\n",
              "      <td>NaN</td>\n",
              "      <td>utf8</td>\n",
              "      <td>{'cse_thumbnail': [{'width': '225', 'height': ...</td>\n",
              "      <td>off</td>\n",
              "      <td>0.182105</td>\n",
              "      <td>1</td>\n",
              "    </tr>\n",
              "    <tr>\n",
              "      <th>2</th>\n",
              "      <td>dish recipe</td>\n",
              "      <td>3</td>\n",
              "      <td>Main Dish Recipes - Allrecipes.com</td>\n",
              "      <td>Hundreds of main dish recipes. Choose from top...</td>\n",
              "      <td>www.allrecipes.com</td>\n",
              "      <td>https://www.allrecipes.com/recipes/80/main-dish/</td>\n",
              "      <td>2019-03-30 01:15:35.167457+00:00</td>\n",
              "      <td>1090000000</td>\n",
              "      <td>GFCWqkFsgBEJ</td>\n",
              "      <td>10</td>\n",
              "      <td>PySearch</td>\n",
              "      <td>012859022920491477448:pubdbfjmmec</td>\n",
              "      <td>NaN</td>\n",
              "      <td>0.18</td>\n",
              "      <td>1,090,000,000</td>\n",
              "      <td>https://www.allrecipes.com/recipes/80/main-dish/</td>\n",
              "      <td>https://www.all&lt;b&gt;recipes&lt;/b&gt;.com/&lt;b&gt;recipes&lt;/...</td>\n",
              "      <td>Hundreds of main &lt;b&gt;dish recipes&lt;/b&gt;. Choose f...</td>\n",
              "      <td>Main &lt;b&gt;Dish Recipes&lt;/b&gt; - Allrecipes.com</td>\n",
              "      <td>utf8</td>\n",
              "      <td>customsearch#result</td>\n",
              "      <td>NaN</td>\n",
              "      <td>utf8</td>\n",
              "      <td>{'cse_thumbnail': [{'width': '170', 'height': ...</td>\n",
              "      <td>off</td>\n",
              "      <td>0.182105</td>\n",
              "      <td>1</td>\n",
              "    </tr>\n",
              "    <tr>\n",
              "      <th>3</th>\n",
              "      <td>dish recipe</td>\n",
              "      <td>4</td>\n",
              "      <td>Let's Dish Recipes | Family friendly recipes f...</td>\n",
              "      <td>Fast, family friendly recipes that won't leave...</td>\n",
              "      <td>letsdishrecipes.com</td>\n",
              "      <td>https://letsdishrecipes.com/</td>\n",
              "      <td>2019-03-30 01:15:35.167457+00:00</td>\n",
              "      <td>1090000000</td>\n",
              "      <td>HO5gMe_HFsoJ</td>\n",
              "      <td>10</td>\n",
              "      <td>PySearch</td>\n",
              "      <td>012859022920491477448:pubdbfjmmec</td>\n",
              "      <td>NaN</td>\n",
              "      <td>0.18</td>\n",
              "      <td>1,090,000,000</td>\n",
              "      <td>https://letsdishrecipes.com/</td>\n",
              "      <td>https://lets&lt;b&gt;dishrecipes&lt;/b&gt;.com/</td>\n",
              "      <td>Fast, family friendly &lt;b&gt;recipes&lt;/b&gt; that won&amp;...</td>\n",
              "      <td>Let&amp;#39;s &lt;b&gt;Dish Recipes&lt;/b&gt; | Family friendl...</td>\n",
              "      <td>utf8</td>\n",
              "      <td>customsearch#result</td>\n",
              "      <td>NaN</td>\n",
              "      <td>utf8</td>\n",
              "      <td>{'website': [{'name': \"Let's Dish Recipes\", 'u...</td>\n",
              "      <td>off</td>\n",
              "      <td>0.182105</td>\n",
              "      <td>1</td>\n",
              "    </tr>\n",
              "    <tr>\n",
              "      <th>4</th>\n",
              "      <td>dish recipe</td>\n",
              "      <td>5</td>\n",
              "      <td>Italian Hot Dish Recipe | Taste of Home</td>\n",
              "      <td>My husband had a poor perception of healthy fo...</td>\n",
              "      <td>www.tasteofhome.com</td>\n",
              "      <td>https://www.tasteofhome.com/recipes/italian-ho...</td>\n",
              "      <td>2019-03-30 01:15:35.167457+00:00</td>\n",
              "      <td>1090000000</td>\n",
              "      <td>lmrSo2pYvHsJ</td>\n",
              "      <td>10</td>\n",
              "      <td>PySearch</td>\n",
              "      <td>012859022920491477448:pubdbfjmmec</td>\n",
              "      <td>NaN</td>\n",
              "      <td>0.18</td>\n",
              "      <td>1,090,000,000</td>\n",
              "      <td>https://www.tasteofhome.com/recipes/italian-ho...</td>\n",
              "      <td>https://www.tasteofhome.com/&lt;b&gt;recipes&lt;/b&gt;/ita...</td>\n",
              "      <td>My husband had a poor perception of healthy fo...</td>\n",
              "      <td>Italian Hot &lt;b&gt;Dish Recipe&lt;/b&gt; | Taste of Home</td>\n",
              "      <td>utf8</td>\n",
              "      <td>customsearch#result</td>\n",
              "      <td>NaN</td>\n",
              "      <td>utf8</td>\n",
              "      <td>{'cse_thumbnail': [{'width': '225', 'height': ...</td>\n",
              "      <td>off</td>\n",
              "      <td>0.182105</td>\n",
              "      <td>1</td>\n",
              "    </tr>\n",
              "  </tbody>\n",
              "</table>\n",
              "</div>"
            ],
            "text/plain": [
              "   searchTerms  rank  ... searchTime startIndex\n",
              "0  dish recipe     1  ...   0.182105          1\n",
              "1  dish recipe     2  ...   0.182105          1\n",
              "2  dish recipe     3  ...   0.182105          1\n",
              "3  dish recipe     4  ...   0.182105          1\n",
              "4  dish recipe     5  ...   0.182105          1\n",
              "\n",
              "[5 rows x 27 columns]"
            ]
          },
          "metadata": {
            "tags": []
          },
          "execution_count": 144
        }
      ]
    },
    {
      "cell_type": "code",
      "metadata": {
        "id": "Z4rzzHGa8Qy7"
      },
      "source": [
        "#copy data in another column\n",
        "df['original_snippets'] = df['snippet']"
      ],
      "execution_count": 145,
      "outputs": []
    },
    {
      "cell_type": "markdown",
      "metadata": {
        "id": "WQBKPsvYAZ5k"
      },
      "source": [
        "##1.Perform basic text processing steps:"
      ]
    },
    {
      "cell_type": "code",
      "metadata": {
        "id": "ddcMvjrTpNT6"
      },
      "source": [
        "#process snippets\n",
        "df['snippet'] = df['snippet'].astype(str)\n",
        "df['snippet'] = df.snippet.apply(lambda x: x.lower())\n",
        "df['snippet'] = df.snippet.apply(lambda x: word_tokenize(x))\n",
        "#remove stop words\n",
        "stop_words = set(stopwords.words('english'))\n",
        "df['snippet'] = df.snippet.apply(lambda x: [token for token in x if token not in stop_words]) \n",
        "\n",
        "#remove panctuation \n",
        "df['snippet'] = df.snippet.apply(lambda x:[token for token in x if token.isalnum()]) \n",
        "\n",
        "#stemming \n",
        "stemmer = PorterStemmer()\n",
        "df['snippet'] = df.snippet.apply(lambda x:[stemmer.stem(token) for token in x]) \n",
        "\n",
        "\n",
        "# lemmatization \n",
        "lemmatizer = WordNetLemmatizer()\n",
        "df['snippet'] = df.snippet.apply(lambda x:[lemmatizer.lemmatize(token) for token in x]) "
      ],
      "execution_count": 146,
      "outputs": []
    },
    {
      "cell_type": "code",
      "metadata": {
        "colab": {
          "base_uri": "https://localhost:8080/"
        },
        "id": "dvmk1cnhyB-X",
        "outputId": "51f58493-beab-4fcd-b174-60212ea78ff3"
      },
      "source": [
        "#sample output\n",
        "df['snippet'][0] "
      ],
      "execution_count": 150,
      "outputs": [
        {
          "output_type": "execute_result",
          "data": {
            "text/plain": [
              "['chicken',\n",
              " 'versatil',\n",
              " 'ingredi',\n",
              " 'use',\n",
              " 'array',\n",
              " 'dish',\n",
              " 'quick',\n",
              " 'easi',\n",
              " 'salad',\n",
              " 'roast',\n",
              " 'recip',\n",
              " 'everi',\n",
              " 'night',\n",
              " 'week']"
            ]
          },
          "metadata": {
            "tags": []
          },
          "execution_count": 150
        }
      ]
    },
    {
      "cell_type": "markdown",
      "metadata": {
        "id": "t1Lm7ZelAlQ9"
      },
      "source": [
        "##2. Create Inverted Indexer:"
      ]
    },
    {
      "cell_type": "code",
      "metadata": {
        "id": "rzVpqfmLt6Zf"
      },
      "source": [
        "length = df['snippet'].shape[0]"
      ],
      "execution_count": 147,
      "outputs": []
    },
    {
      "cell_type": "code",
      "metadata": {
        "id": "qTnTaukpwoOP"
      },
      "source": [
        "inverted_index = dict()\n",
        "for i in range(df['snippet'].shape[0]):\n",
        "    for j in range(len(df['snippet'][i])):\n",
        "        addition_arr = np.zeros(length)\n",
        "        addition_arr[i] = 1\n",
        "        inverted_index[df['snippet'][i][j]] = inverted_index.get(df['snippet'][i][j],np.zeros(length)) + addition_arr"
      ],
      "execution_count": 148,
      "outputs": []
    },
    {
      "cell_type": "markdown",
      "metadata": {
        "id": "0EKVnGrrAoiG"
      },
      "source": [
        "##3. Replace each entry with TF-IDF score:"
      ]
    },
    {
      "cell_type": "code",
      "metadata": {
        "id": "056qqnzH0Bx7"
      },
      "source": [
        "for x, y in inverted_index.items():\n",
        "    idf = math.log(sum((y !=0)*1)/sum(y[y!=0]))\n",
        "    new_y = np.log(y+1)\n",
        "    new_y = new_y*idf\n",
        "    inverted_index[x] = new_y"
      ],
      "execution_count": 151,
      "outputs": []
    },
    {
      "cell_type": "markdown",
      "metadata": {
        "id": "a8UINacrAqr4"
      },
      "source": [
        "##4.Simulate search engine process"
      ]
    },
    {
      "cell_type": "code",
      "metadata": {
        "id": "_xxBzHJFBeXB"
      },
      "source": [
        "#tested query\n",
        "query = 'Chicken dish'"
      ],
      "execution_count": null,
      "outputs": []
    },
    {
      "cell_type": "code",
      "metadata": {
        "colab": {
          "base_uri": "https://localhost:8080/"
        },
        "id": "PtWNGJArBb6W",
        "outputId": "7c030041-e78d-4534-c02c-cc1b5268524d"
      },
      "source": [
        "#user input query\n",
        "print('Enter query:')\n",
        "query = input()"
      ],
      "execution_count": 160,
      "outputs": [
        {
          "output_type": "stream",
          "text": [
            "Enter query:\n",
            "Chicken dish\n"
          ],
          "name": "stdout"
        }
      ]
    },
    {
      "cell_type": "code",
      "metadata": {
        "colab": {
          "base_uri": "https://localhost:8080/"
        },
        "id": "uOtspbgP4ZHg",
        "outputId": "542d35aa-105a-40eb-e076-28dde03b1681"
      },
      "source": [
        "\n",
        "#query parsing\n",
        "#lower case\n",
        "lowercase_query = query.lower()\n",
        "\n",
        "#tokenize\n",
        "tokens = word_tokenize(lowercase_query)\n",
        "\n",
        "#remove stop words\n",
        "stop_words = set(stopwords.words('english')) \n",
        "new_tokens = [token for token in tokens if token not in stop_words]\n",
        "\n",
        "#remove panctuation \n",
        "clear_tokens = [token for token in new_tokens if token.isalnum()]\n",
        "\n",
        "#stemming \n",
        "stemmer = PorterStemmer()\n",
        "stemmed_tokens = [stemmer.stem(token) for token in clear_tokens]\n",
        "\n",
        "# lemmatization \n",
        "lemmatizer = WordNetLemmatizer()\n",
        "lemmatized_tokens = [lemmatizer.lemmatize(token) for token in stemmed_tokens]\n",
        "\n",
        "print('Parsed query Tokens: ', lemmatized_tokens)"
      ],
      "execution_count": 161,
      "outputs": [
        {
          "output_type": "stream",
          "text": [
            "Parsed query Tokens:  ['chicken', 'dish']\n"
          ],
          "name": "stdout"
        }
      ]
    },
    {
      "cell_type": "code",
      "metadata": {
        "id": "0Sooc7775AIC"
      },
      "source": [
        "#get query score for all snippets\n",
        "all_words = inverted_index.keys()\n",
        "scores = np.zeros(length)\n",
        "for word in lemmatized_tokens:\n",
        "    if word in all_words:\n",
        "        scores = scores + np.abs(inverted_index[word])\n",
        "most_likely_snippets = scores.argsort()[-3:][::-1]"
      ],
      "execution_count": 158,
      "outputs": []
    },
    {
      "cell_type": "code",
      "metadata": {
        "id": "GwvEiCNHClAy"
      },
      "source": [
        "pd.options.display.max_colwidth = 100"
      ],
      "execution_count": 168,
      "outputs": []
    },
    {
      "cell_type": "code",
      "metadata": {
        "colab": {
          "base_uri": "https://localhost:8080/"
        },
        "id": "fmwjVnQ76nNi",
        "outputId": "7b274ce4-8101-45e2-c1cc-d32d259c7593"
      },
      "source": [
        "print('snippets with highest score')\n",
        "for i in range(3):\n",
        "    print('snippet ',str(i+1),\":\")\n",
        "    print(df['original_snippets'][most_likely_snippets[i]])"
      ],
      "execution_count": 167,
      "outputs": [
        {
          "output_type": "stream",
          "text": [
            "snippets with highest score\n",
            "snippet  1 :\n",
            "Poulet Ã  la moambÃ© or simply poulet moambe is a savoury chicken dish popular \n",
            "in Central Africa and sometimes considered the national dish of the Democratic \n",
            "Republic of the Congo. The dish itself is made by combining chicken, spices and \n",
            "palm butter (moambÃ©) to create a stew-like consistency.\n",
            "snippet  2 :\n",
            "Mar 25, 2013 ... Chicken Machboos is the national dish of Bahrain. ... Chicken Machboos (\n",
            "Bahraini Spiced Chicken and Rice) ... Let's make some Machboos!\n",
            "snippet  3 :\n",
            "Filipino Adobo Chicken â Chicken braised in vinegar and soy sauce with lots of \n",
            "garlic. ... More of my favorite, easy to make chicken dishes are Braised ChickenÂ ...\n"
          ],
          "name": "stdout"
        }
      ]
    }
  ]
}
