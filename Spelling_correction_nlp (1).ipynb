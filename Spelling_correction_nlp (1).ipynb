{
  "nbformat": 4,
  "nbformat_minor": 0,
  "metadata": {
    "colab": {
      "name": "Spelling_correction_nlp.ipynb",
      "provenance": []
    },
    "kernelspec": {
      "name": "python3",
      "display_name": "Python 3"
    },
    "language_info": {
      "name": "python"
    }
  },
  "cells": [
    {
      "cell_type": "markdown",
      "metadata": {
        "id": "qSabGoixsZSp"
      },
      "source": [
        "Salma Elbess -- \n",
        "201601152"
      ]
    },
    {
      "cell_type": "code",
      "metadata": {
        "id": "xujeewFWH-et"
      },
      "source": [
        "import pickle"
      ],
      "execution_count": 1,
      "outputs": []
    },
    {
      "cell_type": "code",
      "metadata": {
        "id": "Z9JgLoL5coZM"
      },
      "source": [
        "punc = '''!()-[]{};…:'\"\\,‘’<>./?@#$%^&*_~'''"
      ],
      "execution_count": 2,
      "outputs": []
    },
    {
      "cell_type": "code",
      "metadata": {
        "id": "wC5O7JgkIDsG"
      },
      "source": [
        "pickle_off = open(\"vocab.pkl\", 'rb')\n",
        "vocab_list = pickle.load(pickle_off)\n",
        "#lower case\n",
        "vocab_list = [i.lower() for i in vocab_list]\n",
        "#remove panctuation \n",
        "for i in range(len(vocab_list)):\n",
        "    for char in vocab_list[i]:\n",
        "        if char in punc:\n",
        "            vocab_list[i] = vocab_list[i].replace(char, \"\")"
      ],
      "execution_count": 7,
      "outputs": []
    },
    {
      "cell_type": "code",
      "metadata": {
        "id": "2Pb4vFc8HUOi",
        "colab": {
          "base_uri": "https://localhost:8080/"
        },
        "outputId": "61f07154-3488-47a3-f26c-1ed62051a6f3"
      },
      "source": [
        "# A Dynamic Programming based Python program for edit\n",
        "# distance problem\n",
        " \n",
        " \n",
        "def editDistDP(str1, str2, m, n):\n",
        "    # Create a table to store results of subproblems\n",
        "    dp = [[0 for x in range(n + 1)] for x in range(m + 1)]\n",
        " \n",
        "    # Fill d[][] in bottom up manner\n",
        "    for i in range(m + 1):\n",
        "        for j in range(n + 1):\n",
        " \n",
        "            # If first string is empty, only option is to\n",
        "            # insert all characters of second string\n",
        "            if i == 0:\n",
        "                dp[i][j] = j    # Min. operations = j\n",
        " \n",
        "            # If second string is empty, only option is to\n",
        "            # remove all characters of second string\n",
        "            elif j == 0:\n",
        "                dp[i][j] = i    # Min. operations = i\n",
        " \n",
        "            # If last characters are same, ignore last char\n",
        "            # and recur for remaining string\n",
        "            elif str1[i-1] == str2[j-1]:\n",
        "                dp[i][j] = dp[i-1][j-1]\n",
        " \n",
        "            # If last character are different, consider all\n",
        "            # possibilities and find minimum\n",
        "            else:\n",
        "                dp[i][j] = 1 + min(dp[i][j-1],        # Insert\n",
        "                                   dp[i-1][j],        # Remove\n",
        "                                   dp[i-1][j-1])    # Replace\n",
        " \n",
        "    return dp[m][n]\n"
      ],
      "execution_count": 4,
      "outputs": [
        {
          "output_type": "stream",
          "text": [
            "3\n"
          ],
          "name": "stdout"
        }
      ]
    },
    {
      "cell_type": "code",
      "metadata": {
        "id": "jtJWawnMI2OB"
      },
      "source": [
        "#read file words\n",
        "file1 = open('doc.txt', 'r')\n",
        "word_list = []\n",
        "for line in file1:\n",
        "    #remove panctuation\n",
        "    for char in line:\n",
        "        if char in punc:\n",
        "            line = line.replace(char, \"\") \n",
        "    #save word by word\n",
        "    words = line.split()\n",
        "    for word in words:\n",
        "        word_list.append(word.lower()) #words are saved as lower case\n",
        "# Closing file\n",
        "file1.close()"
      ],
      "execution_count": 5,
      "outputs": []
    },
    {
      "cell_type": "code",
      "metadata": {
        "colab": {
          "base_uri": "https://localhost:8080/"
        },
        "id": "NxPXlTFjHag1",
        "outputId": "a49e5bae-dca5-4065-e38f-0b47382564ab"
      },
      "source": [
        "typos_corrections = dict() #empty dictionary of typos and their possible correction\n",
        "for word in word_list: #cheking every word in the txt file\n",
        "    if word not in vocab_list: #if the word is not in the vocab list search for corrections\n",
        "        min_dist = 10000\n",
        "        correction = \"\"\n",
        "        for candidate in vocab_list: #get the word with min edit distance\n",
        "            dist = editDistDP(word,candidate,len(word),len(candidate))\n",
        "            if dist < min_dist:\n",
        "                correction = candidate\n",
        "                min_dist = dist\n",
        "        typos_corrections[word] = correction\n",
        "\n",
        "typos_corrections"
      ],
      "execution_count": 6,
      "outputs": [
        {
          "output_type": "execute_result",
          "data": {
            "text/plain": [
              "{'considration': 'consideration',\n",
              " 'dessert': 'desert',\n",
              " 'medaite': 'mediate',\n",
              " 'wil': 'will'}"
            ]
          },
          "metadata": {
            "tags": []
          },
          "execution_count": 6
        }
      ]
    }
  ]
}